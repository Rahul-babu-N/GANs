{
 "cells": [
  {
   "cell_type": "code",
   "execution_count": null,
   "metadata": {},
   "outputs": [],
   "source": [
    "import tensorflow as tf\n",
    "import numpy as np\n",
    "import matplotlib.pyplot as plt\n",
    "import os\n",
    "from PIL import Image"
   ]
  },
  {
   "cell_type": "code",
   "execution_count": null,
   "metadata": {},
   "outputs": [],
   "source": [
    "data_test = []\n",
    "path = 'Dataset/Test'\n",
    "l = os.listdir(path)\n",
    "for i in l:\n",
    "    imge = Image.open(path+'/'+str(i))\n",
    "    imge = imge.resize((60,60))\n",
    "    imge = np.array(imge)\n",
    "    data_test.append(imge)\n",
    "data_test = np.array(data_test)\n",
    "data_test = data_test/255"
   ]
  },
  {
   "cell_type": "code",
   "execution_count": null,
   "metadata": {},
   "outputs": [],
   "source": [
    "tot_noise = 100\n",
    "Z=[]\n",
    "\n",
    "for i in range(tot_noise):\n",
    "        \n",
    "    noise = np.random.randn(108)\n",
    "    Z.append(noise)\n",
    "\n",
    "Z=np.array(Z)\n",
    "Z.shape"
   ]
  },
  {
   "cell_type": "code",
   "execution_count": null,
   "metadata": {},
   "outputs": [],
   "source": [
    "descriminator = tf.keras.Sequential()\n",
    "descriminator.add(tf.keras.layers.Conv2D(100,(3,3),activation=tf.keras.layers.LeakyReLU(),input_shape=(60,60,3),padding=\"same\"))\n",
    "descriminator.add(tf.keras.layers.Conv2D(50,(3,3),activation=tf.keras.layers.LeakyReLU()))\n",
    "# descriminator.add(tf.keras.layers.MaxPooling2D((2,2)))\n",
    "descriminator.add(tf.keras.layers.Conv2D(50,(3,3),activation=tf.keras.layers.LeakyReLU()))\n",
    "# descriminator.add(tf.keras.layers.MaxPooling2D((2,2)))\n",
    "descriminator.add(tf.keras.layers.Conv2D(20,(3,3),activation=tf.keras.layers.LeakyReLU()))\n",
    "# descriminator.add(tf.keras.layers.MaxPooling2D((2,2)))\n",
    "descriminator.add(tf.keras.layers.Flatten())\n",
    "# descriminator.add(tf.keras.layers.Dense(100,activation=\"sigmoid\"))\n",
    "descriminator.add(tf.keras.layers.Dense(1,activation=\"sigmoid\"))\n"
   ]
  },
  {
   "cell_type": "code",
   "execution_count": null,
   "metadata": {},
   "outputs": [],
   "source": [
    "descriminator.summary()"
   ]
  },
  {
   "cell_type": "code",
   "execution_count": null,
   "metadata": {},
   "outputs": [],
   "source": [
    "generator = tf.keras.Sequential()\n",
    "# generator.add(tf.keras.layers.Flatten(input_shape=(108,)))\n",
    "generator.add(tf.keras.layers.Reshape((3,6,6),input_shape = (108,)))\n",
    "generator.add(tf.keras.layers.Conv2DTranspose(20,(2,2),activation=tf.keras.layers.LeakyReLU()))\n",
    "generator.add(tf.keras.layers.Conv2DTranspose(50,(3,3),activation=tf.keras.layers.LeakyReLU()))\n",
    "generator.add(tf.keras.layers.Conv2DTranspose(100,(4,4),activation=tf.keras.layers.LeakyReLU()))\n",
    "# generator.add(tf.keras.layers.Flatten())\n",
    "# generator.add(tf.keras.layers.Dense(10800,activation=\"sigmoid\"))\n",
    "generator.add(tf.keras.layers.Reshape((60,60,3)))\n"
   ]
  },
  {
   "cell_type": "code",
   "execution_count": null,
   "metadata": {},
   "outputs": [],
   "source": [
    "generator.summary()"
   ]
  },
  {
   "cell_type": "code",
   "execution_count": null,
   "metadata": {},
   "outputs": [],
   "source": [
    "generator.trainable_variables"
   ]
  },
  {
   "cell_type": "code",
   "execution_count": null,
   "metadata": {},
   "outputs": [],
   "source": [
    "i= np.random.choice(range(100))\n",
    "z=Z[i,:]\n",
    "print(z.shape)\n",
    "z = z.reshape(-1,108,)\n"
   ]
  },
  {
   "cell_type": "code",
   "execution_count": null,
   "metadata": {},
   "outputs": [],
   "source": [
    "X = data_test[0].reshape(-1,60,60,3)\n",
    "X = tf.constant(X)\n",
    "fake_X = tf.constant(generator(z))"
   ]
  },
  {
   "cell_type": "code",
   "execution_count": null,
   "metadata": {},
   "outputs": [],
   "source": [
    "plt.imshow(X[0])"
   ]
  },
  {
   "cell_type": "code",
   "execution_count": null,
   "metadata": {},
   "outputs": [],
   "source": [
    "plt.imshow(fake_X[0])"
   ]
  },
  {
   "cell_type": "code",
   "execution_count": null,
   "metadata": {},
   "outputs": [],
   "source": [
    "cross_entropy = tf.keras.losses.BinaryCrossentropy(from_logits=True)"
   ]
  },
  {
   "cell_type": "code",
   "execution_count": null,
   "metadata": {},
   "outputs": [],
   "source": [
    "def discriminator_loss(real_output, fake_output):\n",
    "    real_loss = cross_entropy(tf.ones_like(real_output), real_output)\n",
    "    fake_loss = cross_entropy(tf.zeros_like(fake_output), fake_output)\n",
    "    total_loss = real_loss + fake_loss\n",
    "    return total_loss"
   ]
  },
  {
   "cell_type": "code",
   "execution_count": null,
   "metadata": {},
   "outputs": [],
   "source": [
    "def generator_loss(fake_output):\n",
    "    return cross_entropy(tf.ones_like(fake_output), fake_output)"
   ]
  },
  {
   "cell_type": "code",
   "execution_count": null,
   "metadata": {},
   "outputs": [],
   "source": [
    "generator_optimizer = tf.keras.optimizers.Adam(0.1)\n",
    "discriminator_optimizer = tf.keras.optimizers.Adam(0.1)"
   ]
  },
  {
   "cell_type": "code",
   "execution_count": null,
   "metadata": {},
   "outputs": [],
   "source": [
    "for epochs in range(50):    \n",
    "    with tf.GradientTape() as disc_tape:\n",
    "        descriminator.trainable=True\n",
    "        generator.trainable = False\n",
    "        real_output = descriminator(X)\n",
    "        fake_output = descriminator(generator(z))\n",
    "        \n",
    "        disc_loss = discriminator_loss(real_output, fake_output)\n",
    "\n",
    "    gradients_of_discriminator = disc_tape.gradient(disc_loss, descriminator.trainable_variables)\n",
    "    print(gradients_of_discriminator)\n",
    "    discriminator_optimizer.apply_gradients(zip(gradients_of_discriminator, descriminator.trainable_variables))\n",
    "    with tf.GradientTape() as gen_tape:\n",
    "        descriminator.trainable = False\n",
    "        generator.trainable = True       \n",
    "        fake_output = descriminator(generator(z))\n",
    "        gen_loss = generator_loss(fake_output)\n",
    "    gradients_of_generator = gen_tape.gradient(gen_loss, generator.trainable_variables)\n",
    "    print(\"--------------------------\")\n",
    "    print(gradients_of_generator)\n",
    "    generator_optimizer.apply_gradients(zip(gradients_of_generator, generator.trainable_variables))\n"
   ]
  },
  {
   "cell_type": "code",
   "execution_count": null,
   "metadata": {},
   "outputs": [],
   "source": [
    "plt.imshow(generator(z)[0])"
   ]
  },
  {
   "cell_type": "code",
   "execution_count": null,
   "metadata": {},
   "outputs": [],
   "source": []
  },
  {
   "cell_type": "code",
   "execution_count": null,
   "metadata": {},
   "outputs": [],
   "source": []
  },
  {
   "cell_type": "code",
   "execution_count": null,
   "metadata": {},
   "outputs": [],
   "source": []
  }
 ],
 "metadata": {
  "kernelspec": {
   "display_name": "Python 3 (ipykernel)",
   "language": "python",
   "name": "python3"
  },
  "language_info": {
   "codemirror_mode": {
    "name": "ipython",
    "version": 3
   },
   "file_extension": ".py",
   "mimetype": "text/x-python",
   "name": "python",
   "nbconvert_exporter": "python",
   "pygments_lexer": "ipython3",
   "version": "3.11.7"
  }
 },
 "nbformat": 4,
 "nbformat_minor": 4
}
